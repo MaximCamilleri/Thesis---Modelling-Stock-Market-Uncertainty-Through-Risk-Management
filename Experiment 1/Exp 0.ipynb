{
 "cells": [
  {
   "cell_type": "markdown",
   "metadata": {},
   "source": [
    "# Analysing PCA Performance"
   ]
  },
  {
   "cell_type": "markdown",
   "metadata": {},
   "source": [
    "## Imports"
   ]
  },
  {
   "cell_type": "code",
   "execution_count": 1,
   "metadata": {},
   "outputs": [
    {
     "name": "stdout",
     "output_type": "stream",
     "text": [
      "WARNING:tensorflow:\n",
      "The TensorFlow contrib module will not be included in TensorFlow 2.0.\n",
      "For more information, please see:\n",
      "  * https://github.com/tensorflow/community/blob/master/rfcs/20180907-contrib-sunset.md\n",
      "  * https://github.com/tensorflow/addons\n",
      "  * https://github.com/tensorflow/io (for I/O related ops)\n",
      "If you depend on functionality not listed there, please file an issue.\n",
      "\n"
     ]
    },
    {
     "name": "stderr",
     "output_type": "stream",
     "text": [
      "d:\\Modling Stock-Market Uncertainty Through Risk Management\\Experiment 1\\.venv37\\lib\\site-packages\\stable_baselines\\__init__.py:33: UserWarning: stable-baselines is in maintenance mode, please use [Stable-Baselines3 (SB3)](https://github.com/DLR-RM/stable-baselines3) for an up-to-date version. You can find a [migration guide](https://stable-baselines3.readthedocs.io/en/master/guide/migration.html) in SB3 documentation.\n",
      "  \"stable-baselines is in maintenance mode, please use [Stable-Baselines3 (SB3)](https://github.com/DLR-RM/stable-baselines3) for an up-to-date version. You can find a [migration guide](https://stable-baselines3.readthedocs.io/en/master/guide/migration.html) in SB3 documentation.\"\n",
      "d:\\Modling Stock-Market Uncertainty Through Risk Management\\Experiment 1\\.venv37\\lib\\site-packages\\pyfolio\\pos.py:27: UserWarning: Module \"zipline.assets\" not found; multipliers will not be applied to position notionals.\n",
      "  'Module \"zipline.assets\" not found; multipliers will not be applied'\n"
     ]
    }
   ],
   "source": [
    "from stable_baselines import DDPG\n",
    "import os \n",
    "import pandas as pd\n",
    "from stable_baselines.common.vec_env import DummyVecEnv\n",
    "from stable_baselines.common.noise import OrnsteinUhlenbeckActionNoise\n",
    "import sys\n",
    "import time\n",
    "from pyfolio import timeseries\n",
    "from tabulate import tabulate\n",
    "from ta import add_all_ta_features\n",
    "import pickle\n",
    "import matplotlib.pyplot as plt\n",
    "from scipy import stats\n",
    "import math\n",
    "\n",
    "from sklearn.preprocessing import StandardScaler\n",
    "from sklearn.decomposition import PCA\n",
    "from sklearn.model_selection import train_test_split\n",
    "from sklearn.metrics import ConfusionMatrixDisplay\n",
    "\n",
    "sys.path.append(\"../\")\n",
    "from FunctionFiles.pipeline.preprocessors import *\n",
    "from FunctionFiles.env.EnvMultipleStock_trade import StockEnvTrade\n",
    "from FunctionFiles.env.EnvMultipleStock_train import StockEnvTrain\n",
    "from FunctionFiles.pipeline.backtesting_pipeline import backtesting, probabilistic_sharpe_ratio\n",
    "from FunctionFiles.pipeline.training_pipeline import training\n",
    "from FunctionFiles.env.EnvMultipleStock_validation import StockEnvValidation\n",
    "from FunctionFiles.env.EnvMultipleStock_trade_pca import StockEnvTradePCA\n",
    "from FunctionFiles.env.EnvMultipleStock_train_pca import StockEnvTrainPCA\n",
    "\n",
    "%matplotlib inline"
   ]
  },
  {
   "cell_type": "markdown",
   "metadata": {},
   "source": [
    "## Base DDPG\n",
    "\n",
    "This section details the performance of running DDPG with no additional modifications"
   ]
  },
  {
   "cell_type": "code",
   "execution_count": null,
   "metadata": {},
   "outputs": [],
   "source": [
    "for i in range(20):\n",
    "    preprocessed_path = \"../Data/done_data.csv\"\n",
    "    if os.path.exists(preprocessed_path):\n",
    "        data = pd.read_csv(preprocessed_path, index_col=0)\n",
    "\n",
    "    unique_trade_date = data[(data.datadate > 20151001)&(data.datadate <= 20200707)].datadate.unique()\n",
    "\n",
    "    train = data_split(data, start=20090000, end=unique_trade_date[0]) ## training data\n",
    "    env_train = DummyVecEnv([lambda: StockEnvTrain(train)])\n",
    "\n",
    "    n_actions = env_train.action_space.shape[-1]\n",
    "    param_noise = None\n",
    "    action_noise = OrnsteinUhlenbeckActionNoise(mean=np.zeros(n_actions), sigma=float(0.5) * np.ones(n_actions))\n",
    "\n",
    "    save_path = f\"trained_models/Base_DDPG/\"\n",
    "    if not os.path.isdir(save_path): os.mkdir(save_path)\n",
    "\n",
    "    start = time.time()\n",
    "    model = DDPG('MlpPolicy', env_train, param_noise=param_noise, action_noise=action_noise)\n",
    "    model.learn(total_timesteps=10000)\n",
    "    end = time.time()\n",
    "\n",
    "    model.save(f\"{save_path}/DDPG_{i+1}\")\n",
    "    print('Training time (DDPG): ', (end-start)/60,' minutes')\n"
   ]
  },
  {
   "cell_type": "markdown",
   "metadata": {},
   "source": [
    "### Testing"
   ]
  },
  {
   "cell_type": "code",
   "execution_count": 7,
   "metadata": {},
   "outputs": [],
   "source": [
    "def _get_account_value(model_name):\n",
    "    df_account_value=pd.DataFrame()\n",
    "    temp = pd.read_csv('working_files/account_value_trade_{}_{}.csv'.format(0, model_name))\n",
    "\n",
    "    df_account_value = df_account_value.append(temp,ignore_index=True)\n",
    "    df_account_value = pd.DataFrame({'account_value':df_account_value['0']})\n",
    "    return df_account_value\n",
    "\n",
    "def _get_daily_return(df):\n",
    "    df['daily_return']=df.account_value.pct_change(1)\n",
    "    return df\n",
    "\n",
    "def _backtest_strat(df):\n",
    "    strategy_ret= df.copy()\n",
    "    strategy_ret['Date'] = pd.to_datetime(strategy_ret['Date'])\n",
    "    strategy_ret.set_index('Date', drop = False, inplace = True)\n",
    "    strategy_ret.index = strategy_ret.index.tz_localize('UTC')\n",
    "    del strategy_ret['Date']\n",
    "    ts = pd.Series(strategy_ret['daily_return'].values, index=strategy_ret.index)\n",
    "    return ts\n",
    "\n",
    "def benchmark():\n",
    "    dji = pd.read_csv(\"../data/^DJI.csv\")\n",
    "    test_dji=dji[(dji['Date']>='2016-01-01') & (dji['Date']<='2020-06-30')]\n",
    "    test_dji = test_dji.reset_index(drop=True)\n",
    "    test_dji['daily_return']=test_dji['Adj Close'].pct_change(1)\n",
    "    return test_dji"
   ]
  },
  {
   "cell_type": "code",
   "execution_count": 8,
   "metadata": {},
   "outputs": [
    {
     "name": "stdout",
     "output_type": "stream",
     "text": [
      "Sharpe:  0.07094100435029413\n",
      "Sharpe:  0.03609763198515978\n",
      "Sharpe:  0.025679371940725264\n",
      "Sharpe:  0.042162175269571826\n",
      "Sharpe:  0.08437875469161758\n",
      "Sharpe:  0.04665547819603311\n",
      "Sharpe:  0.10698105221387194\n",
      "Sharpe:  0.02003185139978006\n",
      "Sharpe:  0.07758609027842196\n",
      "Sharpe:  0.05096731202738281\n",
      "Sharpe:  0.08314308431159904\n",
      "Sharpe:  0.05000972094533722\n",
      "Sharpe:  0.07121199665632758\n",
      "Sharpe:  0.09150376134210596\n",
      "Sharpe:  0.12194055713576422\n",
      "Sharpe:  0.026795413269834194\n",
      "Sharpe:  0.0806414691180061\n",
      "Sharpe:  0.09706255824310923\n",
      "Sharpe:  0.08771523885552714\n",
      "Sharpe:  0.03575628902674582\n",
      "Attribute               Mean      Median\n",
      "-----------------  ---------  ----------\n",
      "Annual Return       0.091221   0.0962375\n",
      "Cumulative Return   0.54765    0.547268\n",
      "Annual Volatility   0.208681   0.20899\n",
      "Sharpe Ratio        0.518803   0.564152\n",
      "Sortino Ratio       0.723574   0.785015\n",
      "Max Drawdown       -0.373198  -0.358623\n"
     ]
    }
   ],
   "source": [
    "models = os.listdir(\"trained_models/Base_DDPG/\")\n",
    "preprocessed_path = \"../Data/done_data.csv\"\n",
    "if os.path.exists(preprocessed_path):\n",
    "    data = pd.read_csv(preprocessed_path, index_col=0)\n",
    "\n",
    "unique_trade_date = data[(data.datadate > 20151001)&(data.datadate <= 20200707)].datadate.unique()\n",
    "\n",
    "for m in range(len(models)):\n",
    "    model = DDPG.load(f\"trained_models/Base_DDPG/{models[m]}\")\n",
    "\n",
    "    trade_data = data_split(data, start=unique_trade_date[0], end=unique_trade_date[-1])\n",
    "    env_trade = DummyVecEnv([lambda: StockEnvTrade(\n",
    "        trade_data,\n",
    "        turbulence_threshold=1000000000000,\n",
    "        initial=True,\n",
    "        previous_state=[],\n",
    "        model_name = models[m],\n",
    "        iteration=0)\n",
    "    ])\n",
    "\n",
    "    obs_trade = env_trade.reset()\n",
    "\n",
    "    for i in range(len(trade_data.index.unique())):\n",
    "        action, _states = model.predict(obs_trade)\n",
    "        obs_trade, rewards, dones, info = env_trade.step(action)\n",
    "        if i == (len(trade_data.index.unique()) - 2):\n",
    "            last_state = env_trade.env_method(method_name = 'render')[0]\n",
    "            action_memory = env_trade.env_method(method_name = 'get_action_history')[0]\n",
    "\n",
    "annual_return = []\n",
    "cum_return = []\n",
    "sharpe = []\n",
    "annual_volatility = []\n",
    "sortino = []\n",
    "drawdown = []\n",
    "models = os.listdir(\"trained_models/Base_DDPG/\")\n",
    "test_dji = benchmark()\n",
    "\n",
    "\n",
    "for i in range(len(models)):\n",
    "    account_value = _get_daily_return(_get_account_value(models[i]))\n",
    "    account_value['Date'] = test_dji['Date']\n",
    "    strat = _backtest_strat(account_value)\n",
    "\n",
    "    perf_stats_all = timeseries.perf_stats(\n",
    "                    returns=strat,\n",
    "                    positions=None,\n",
    "                    transactions=None,\n",
    "                    turnover_denom=\"AGB\",\n",
    "                )\n",
    "\n",
    "    for index, row in perf_stats_all.items():\n",
    "        if index == \"Annual return\":\n",
    "            annual_return.append(row)\n",
    "        if index == \"Cumulative returns\":\n",
    "            cum_return.append(row)\n",
    "        if index == \"Sharpe ratio\":\n",
    "            sharpe.append(row)\n",
    "        if index == \"Annual volatility\":\n",
    "            annual_volatility.append(row)\n",
    "        if index == \"Sortino ratio\":\n",
    "            sortino.append(row)\n",
    "        if index == \"Max drawdown\":\n",
    "            drawdown.append(row)\n",
    "\n",
    "print(tabulate([\n",
    "    ['Annual Return', np.array(annual_return).mean(), np.median(annual_return)], \n",
    "    ['Cumulative Return', np.array(cum_return).mean(), np.median(cum_return)],\n",
    "    ['Annual Volatility', np.array(annual_volatility).mean(), np.median(annual_volatility)],\n",
    "    ['Sharpe Ratio', np.array(sharpe).mean(), np.median(sharpe)],\n",
    "    ['Sortino Ratio', np.array(sortino).mean(), np.median(sortino)],\n",
    "    ['Max Drawdown', np.array(drawdown).mean(), np.median(drawdown)]\n",
    "], headers=['Attribute', 'Mean', \"Median\"]))\n"
   ]
  },
  {
   "cell_type": "markdown",
   "metadata": {},
   "source": [
    "## Modified DDPG \n",
    "\n",
    "This version of DDPG includes 2 major modifications presented in Hongyang et als \"paper Deep reinforcement learning for automated stock trading: An ensemble strategy\"\n",
    "\n",
    "These are\n",
    "- Retraining the algorithm once every 60 trading days to ensure the data used is relevant\n",
    "- A turbulence threshold at 90% percent historical to stop trading and sell all assets"
   ]
  },
  {
   "cell_type": "code",
   "execution_count": null,
   "metadata": {},
   "outputs": [],
   "source": [
    "def run_training(data, rebalance_window, validation_window, num_of_runs, model_name, training_function, folder_name, train_env, val_env, trade_env, env_wrapper, turbulence_threshold_level):\n",
    "    unique_trade_date = data[(data.datadate > 20151001)&(data.datadate <= 20200707)].datadate.unique()\n",
    "\n",
    "    for i in range(18, num_of_runs+1):\n",
    "        tr = training(model_name, train_env, val_env, trade_env, env_wrapper)\n",
    "        tr.retraining_approach(\n",
    "            df=data, \n",
    "            unique_trade_dates = unique_trade_date,\n",
    "            rebalance_window = rebalance_window,\n",
    "            validation_window=validation_window,\n",
    "            training_instance = f'{folder_name}{i}',\n",
    "            turbulence_threshold_level = turbulence_threshold_level,\n",
    "            training_function = training_function\n",
    "        )\n",
    "\n",
    "def train_DDPG(env_train, model_name, training_instance, timesteps = 10000):\n",
    "    \"\"\"DDPG model\"\"\"\n",
    "\n",
    "    # add the noise objects for DDPG\n",
    "    n_actions = env_train.action_space.shape[-1]\n",
    "    param_noise = None\n",
    "    action_noise = OrnsteinUhlenbeckActionNoise(mean=np.zeros(n_actions), sigma=float(0.5) * np.ones(n_actions))\n",
    "\n",
    "    save_path = f\"trained_models/DDPG/{training_instance}\"\n",
    "    if not os.path.isdir(save_path): os.mkdir(save_path)\n",
    "\n",
    "    start = time.time()\n",
    "    model = DDPG('MlpPolicy', env_train, param_noise=param_noise, action_noise=action_noise)\n",
    "    model.learn(total_timesteps=timesteps)\n",
    "    end = time.time()\n",
    "\n",
    "    model.save(f\"{save_path}/{model_name}\")\n",
    "    print('Training time (DDPG): ', (end-start)/60,' minutes')\n",
    "    return model\n",
    "\n",
    "run_training(\n",
    "    rebalance_window = 63, \n",
    "    validation_window = 63, \n",
    "    num_of_runs = 20,\n",
    "    model_name = \"DDPG_DOW\", \n",
    "    training_function = train_DDPG,\n",
    "    folder_name = \"TurbThresh.90_10K_\",\n",
    "    train_env = StockEnvTrain, \n",
    "    val_env = StockEnvValidation,\n",
    "    trade_env = StockEnvTrade,\n",
    "    env_wrapper = DummyVecEnv,\n",
    "    turbulence_threshold_level = 0.90\n",
    ")"
   ]
  },
  {
   "cell_type": "markdown",
   "metadata": {},
   "source": [
    "### Testing"
   ]
  },
  {
   "cell_type": "code",
   "execution_count": 10,
   "metadata": {},
   "outputs": [
    {
     "name": "stdout",
     "output_type": "stream",
     "text": [
      "DDPG\n",
      "Attribute                Mean      Median\n",
      "-----------------  ----------  ----------\n",
      "Annual Return       0.10679     0.110867\n",
      "Cumulative Return   0.583507    0.605015\n",
      "Annual Volatility   0.0851674   0.0852452\n",
      "Sharpe Ratio        1.23261     1.33013\n",
      "Sortino Ratio       1.89061     2.05774\n",
      "Max Drawdown       -0.0741215  -0.074128\n",
      "Sharpe STD: 0.22633565044937304\n"
     ]
    }
   ],
   "source": [
    "print('DDPG')\n",
    "ddpg = backtesting(\n",
    "    model_name = [\n",
    "        \"DDPG_DOW_TurbThresh.90_10K_1\", \"DDPG_DOW_TurbThresh.90_10K_2\", \"DDPG_DOW_TurbThresh.90_10K_3\", \"DDPG_DOW_TurbThresh.90_10K_4\", \"DDPG_DOW_TurbThresh.90_10K_5\",\n",
    "        \"DDPG_DOW_TurbThresh.90_10K_6\", \"DDPG_DOW_TurbThresh.90_10K_7\", \"DDPG_DOW_TurbThresh.90_10K_8\", \"DDPG_DOW_TurbThresh.90_10K_9\", \"DDPG_DOW_TurbThresh.90_10K_10\",\n",
    "        \"DDPG_DOW_TurbThresh.90_10K_11\", \"DDPG_DOW_TurbThresh.90_10K_12\", \"DDPG_DOW_TurbThresh.90_10K_13\", \"DDPG_DOW_TurbThresh.90_10K_14\", \"DDPG_DOW_TurbThresh.90_10K_15\",\n",
    "        \"DDPG_DOW_TurbThresh.90_10K_16\", \"DDPG_DOW_TurbThresh.90_10K_17\", \"DDPG_DOW_TurbThresh.90_10K_18\", \"DDPG_DOW_TurbThresh.90_10K_19\", \"DDPG_DOW_TurbThresh.90_10K_20\"\n",
    "    ],\n",
    "    file_path = '../Experiment 1/working_files/account_value_trade_{}_{}.csv'\n",
    ")"
   ]
  },
  {
   "cell_type": "markdown",
   "metadata": {},
   "source": [
    "## Modified State Space\n",
    "\n",
    "To attempt to improve algorithmic performance the state space was modified to include 90 technical indicators, compared to only 4 used in the pervious tests. "
   ]
  },
  {
   "cell_type": "code",
   "execution_count": 2,
   "metadata": {},
   "outputs": [],
   "source": [
    "preprocessed_path = \"../Data/done_data.csv\"\n",
    "if os.path.exists(preprocessed_path):\n",
    "    data = pd.read_csv(preprocessed_path, index_col=0)\n",
    "\n",
    "dfs = []\n",
    "for tic in data.tic.unique().tolist():\n",
    "    dfs.append(add_all_ta_features(data[data.tic == tic].copy(), open=\"open\", high=\"high\", low=\"low\", close=\"adjcp\", volume=\"volume\", fillna=True))\n",
    "\n",
    "data = pd.concat(dfs).sort_values([\"datadate\", 'tic'])"
   ]
  },
  {
   "cell_type": "code",
   "execution_count": null,
   "metadata": {},
   "outputs": [],
   "source": [
    "def run_training(data, rebalance_window, validation_window, num_of_runs, model_name, training_function, folder_name, train_env, val_env, trade_env, env_wrapper, turbulence_threshold_level):\n",
    "    unique_trade_date = data[(data.datadate > 20151001)&(data.datadate <= 20200707)].datadate.unique()\n",
    "\n",
    "    for i in range(20, num_of_runs+1):\n",
    "        tr = training(model_name, train_env, val_env, trade_env, env_wrapper)\n",
    "        tr.retraining_approach(\n",
    "            df=data, \n",
    "            unique_trade_dates = unique_trade_date,\n",
    "            rebalance_window = rebalance_window,\n",
    "            validation_window=validation_window,\n",
    "            training_instance = f'{folder_name}{i}',\n",
    "            turbulence_threshold_level = turbulence_threshold_level,\n",
    "            training_function = training_function\n",
    "        )\n",
    "\n",
    "def train_DDPG(env_train, model_name, training_instance, timesteps = 15000):\n",
    "    n_actions = env_train.action_space.shape[-1]\n",
    "    param_noise = None\n",
    "    action_noise = OrnsteinUhlenbeckActionNoise(mean=np.zeros(n_actions), sigma=float(0.5) * np.ones(n_actions))\n",
    "\n",
    "    save_path = f\"trained_models/DDPG_FULL_STATE/{training_instance}\"\n",
    "    if not os.path.isdir(save_path): os.mkdir(save_path)\n",
    "\n",
    "    start = time.time()\n",
    "    model = DDPG('MlpPolicy', env_train, param_noise=param_noise, action_noise=action_noise, gamma=0.99, batch_size = 256)\n",
    "    model.learn(total_timesteps=timesteps)\n",
    "    end = time.time()\n",
    "\n",
    "    model.save(f\"{save_path}/{model_name}\")\n",
    "    print('Training time (DDPG): ', (end-start)/60,' minutes')\n",
    "    return model"
   ]
  },
  {
   "cell_type": "code",
   "execution_count": null,
   "metadata": {},
   "outputs": [],
   "source": [
    "run_training(\n",
    "    data = data,\n",
    "    rebalance_window = 63, \n",
    "    validation_window = 63, \n",
    "    num_of_runs = 20,\n",
    "    model_name = \"FULL\", \n",
    "    training_function = train_DDPG,\n",
    "    folder_name = \"DDDPG_\",\n",
    "    train_env = StockEnvTrainPCA, \n",
    "    val_env = StockEnvValidation,\n",
    "    trade_env = StockEnvTradePCA,\n",
    "    env_wrapper = DummyVecEnv,\n",
    "    turbulence_threshold_level = 0.90\n",
    ")"
   ]
  },
  {
   "cell_type": "markdown",
   "metadata": {},
   "source": [
    "### PCA\n",
    "\n",
    "To reduce the number of input parameters while maintaining and distilling the information in the new technical indicators PCA was applied at 5 different levels: 99%, 95%, 90%, 85%, 80%"
   ]
  },
  {
   "cell_type": "code",
   "execution_count": 9,
   "metadata": {},
   "outputs": [],
   "source": [
    "class run_PCA():\n",
    "    def __init__(self, indicators, data, tickers) -> None:\n",
    "        self.data = data\n",
    "        self.tickers = tickers\n",
    "        self.indicators = indicators\n",
    "        self.number_of_components = -1\n",
    "    \n",
    "    def run_PCA(self, n_components = .99):\n",
    "        x = self.data.loc[:, self.indicators].values\n",
    "        x = StandardScaler().fit_transform(x)\n",
    "        pca = PCA(n_components=n_components)\n",
    "\n",
    "        principalComponents = pca.fit_transform(x)\n",
    "        principalDf = pd.DataFrame(data = principalComponents)\n",
    "\n",
    "        pickle.dump(pca, open(f\"trained_models/PCA/PCA_Model_{str(n_components)}.pickle\", 'wb'))\n",
    "\n",
    "        ret = self.data[['datadate','tic','open','high','low','adjcp','volume', 'turbulence']]\n",
    "\n",
    "        for count in range(0, len(principalDf.columns)):\n",
    "            ret[count] = principalDf[count].values.tolist()\n",
    "\n",
    "        return ret"
   ]
  },
  {
   "cell_type": "code",
   "execution_count": null,
   "metadata": {},
   "outputs": [],
   "source": [
    "alg = run_PCA(\n",
    "    indicators = data.columns.tolist()[12:], \n",
    "    data = data, \n",
    "    tickers = data.tic.unique().tolist()\n",
    ")\n",
    "\n",
    "pca99 = alg.run_PCA(n_components = 0.99)\n",
    "pca95 = alg.run_PCA(n_components = 0.95)\n",
    "pca90 = alg.run_PCA(n_components = 0.9)\n",
    "pca85 = alg.run_PCA(n_components = 0.85)\n",
    "pca80 = alg.run_PCA(n_components = 0.80)"
   ]
  },
  {
   "cell_type": "markdown",
   "metadata": {},
   "source": [
    "#### Testing"
   ]
  },
  {
   "cell_type": "code",
   "execution_count": null,
   "metadata": {},
   "outputs": [],
   "source": [
    "def train(FOLDER, model_name, folder_name, data):\n",
    "    def train_DDPG(env_train, model_name, training_instance, timesteps = 15000):\n",
    "        n_actions = env_train.action_space.shape[-1]\n",
    "        param_noise = None\n",
    "        action_noise = OrnsteinUhlenbeckActionNoise(mean=np.zeros(n_actions), sigma=float(0.5) * np.ones(n_actions))\n",
    "\n",
    "        save_path = f\"trained_models/{FOLDER}/{training_instance}\"\n",
    "        if not os.path.isdir(save_path): os.mkdir(save_path)\n",
    "\n",
    "        start = time.time()\n",
    "        model = DDPG('MlpPolicy', env_train, param_noise=param_noise, action_noise=action_noise, gamma=0.99, batch_size = 256)\n",
    "        model.learn(total_timesteps=timesteps)\n",
    "        end = time.time()\n",
    "\n",
    "        model.save(f\"{save_path}/{model_name}\")\n",
    "        print('Training time (DDPG): ', (end-start)/60,' minutes')\n",
    "        return model\n",
    "\n",
    "    run_training(\n",
    "        data = data,\n",
    "        rebalance_window = 63, \n",
    "        validation_window = 63, \n",
    "        num_of_runs = 20,\n",
    "        model_name = model_name, \n",
    "        training_function = train_DDPG,\n",
    "        folder_name = folder_name,\n",
    "        train_env = StockEnvTrainPCA, \n",
    "        val_env = StockEnvValidation,\n",
    "        trade_env = StockEnvTradePCA,\n",
    "        env_wrapper = DummyVecEnv,\n",
    "        turbulence_threshold_level = 0.90\n",
    "    )"
   ]
  },
  {
   "cell_type": "code",
   "execution_count": null,
   "metadata": {},
   "outputs": [],
   "source": [
    "train(\"DDPG_PCA99\", \"DDPG_99\", \"pca99_\", pca99)\n",
    "train(\"DDPG_PCA95\", \"DDPG_95\", \"pca95_\", pca95)\n",
    "train(\"DDPG_PCA90_opt\", \"DDPG_90\", \"pca90_\", pca90)\n",
    "train(\"DDPG_PCA85\", \"DDPG_85\", \"pca85_\", pca85)\n",
    "train(\"DDPG_PCA80\", \"DDPG_80\", \"pca80_\", pca80)"
   ]
  },
  {
   "cell_type": "markdown",
   "metadata": {},
   "source": [
    "## Comparing Results"
   ]
  },
  {
   "cell_type": "code",
   "execution_count": 2,
   "metadata": {},
   "outputs": [
    {
     "name": "stdout",
     "output_type": "stream",
     "text": [
      "DDPG\n",
      "Attribute                Mean      Median\n",
      "-----------------  ----------  ----------\n",
      "Annual Return       0.10679     0.110867\n",
      "Cumulative Return   0.583507    0.605015\n",
      "Annual Volatility   0.0851674   0.0852452\n",
      "Sharpe Ratio        1.23261     1.33013\n",
      "Sortino Ratio       1.89061     2.05774\n",
      "Max Drawdown       -0.0741215  -0.074128\n",
      "Sharpe STD: 0.22633565044937304\n",
      "\n",
      "DDPG full\n",
      "Attribute                Mean      Median\n",
      "-----------------  ----------  ----------\n",
      "Annual Return       0.103197    0.105257\n",
      "Cumulative Return   0.56193     0.568889\n",
      "Annual Volatility   0.0855277   0.0852902\n",
      "Sharpe Ratio        1.19013     1.21671\n",
      "Sortino Ratio       1.81149     1.80943\n",
      "Max Drawdown       -0.0766646  -0.0697242\n",
      "Sharpe STD: 0.27576585328649994\n",
      "\n",
      "DDPG PCA .99\n",
      "Attribute                Mean      Median\n",
      "-----------------  ----------  ----------\n",
      "Annual Return       0.108194    0.104614\n",
      "Cumulative Return   0.590151    0.564758\n",
      "Annual Volatility   0.0835127   0.0835875\n",
      "Sharpe Ratio        1.27331     1.23102\n",
      "Sortino Ratio       1.95508     1.91481\n",
      "Max Drawdown       -0.0701763  -0.0686929\n",
      "Sharpe STD: 0.17263409960500115\n",
      "\n",
      "DDPG PCA .95\n",
      "Attribute                Mean      Median\n",
      "-----------------  ----------  ----------\n",
      "Annual Return       0.104171    0.105209\n",
      "Cumulative Return   0.565811    0.568831\n",
      "Annual Volatility   0.0827134   0.0825119\n",
      "Sharpe Ratio        1.23952     1.24027\n",
      "Sortino Ratio       1.8851      1.86242\n",
      "Max Drawdown       -0.0711886  -0.0686639\n",
      "Sharpe STD: 0.21942008684664416\n",
      "\n",
      "DDPG PCA .90\n",
      "Attribute                Mean      Median\n",
      "-----------------  ----------  ----------\n",
      "Annual Return       0.11175     0.108319\n",
      "Cumulative Return   0.61405     0.588534\n",
      "Annual Volatility   0.0825361   0.0818388\n",
      "Sharpe Ratio        1.3276      1.27703\n",
      "Sortino Ratio       2.05314     1.93821\n",
      "Max Drawdown       -0.0694947  -0.0683058\n",
      "Sharpe STD: 0.21271731029752788\n",
      "\n",
      "DDPG PCA .85\n",
      "Attribute                Mean      Median\n",
      "-----------------  ----------  ----------\n",
      "Annual Return       0.0967789   0.0950129\n",
      "Cumulative Return   0.519479    0.504483\n",
      "Annual Volatility   0.0854126   0.0846656\n",
      "Sharpe Ratio        1.12491     1.10231\n",
      "Sortino Ratio       1.69923     1.67265\n",
      "Max Drawdown       -0.0762742  -0.0781548\n",
      "Sharpe STD: 0.2248100894716048\n",
      "\n",
      "DDPG PCA .80\n",
      "Attribute                Mean      Median\n",
      "-----------------  ----------  ----------\n",
      "Annual Return       0.104798    0.10414\n",
      "Cumulative Return   0.569306    0.561739\n",
      "Annual Volatility   0.0846727   0.084648\n",
      "Sharpe Ratio        1.22322     1.23336\n",
      "Sortino Ratio       1.86201     1.84588\n",
      "Max Drawdown       -0.0729227  -0.0697129\n",
      "Sharpe STD: 0.21802120390050592\n"
     ]
    }
   ],
   "source": [
    "print('DDPG')\n",
    "ddpg = backtesting(\n",
    "    model_name = [\n",
    "        \"DDPG_DOW_TurbThresh.90_10K_1\", \"DDPG_DOW_TurbThresh.90_10K_2\", \"DDPG_DOW_TurbThresh.90_10K_3\", \"DDPG_DOW_TurbThresh.90_10K_4\", \"DDPG_DOW_TurbThresh.90_10K_5\",\n",
    "        \"DDPG_DOW_TurbThresh.90_10K_6\", \"DDPG_DOW_TurbThresh.90_10K_7\", \"DDPG_DOW_TurbThresh.90_10K_8\", \"DDPG_DOW_TurbThresh.90_10K_9\", \"DDPG_DOW_TurbThresh.90_10K_10\",\n",
    "        \"DDPG_DOW_TurbThresh.90_10K_11\", \"DDPG_DOW_TurbThresh.90_10K_12\", \"DDPG_DOW_TurbThresh.90_10K_13\", \"DDPG_DOW_TurbThresh.90_10K_14\", \"DDPG_DOW_TurbThresh.90_10K_15\",\n",
    "        \"DDPG_DOW_TurbThresh.90_10K_16\", \"DDPG_DOW_TurbThresh.90_10K_17\", \"DDPG_DOW_TurbThresh.90_10K_18\", \"DDPG_DOW_TurbThresh.90_10K_19\", \"DDPG_DOW_TurbThresh.90_10K_20\"\n",
    "    ],\n",
    "    file_path = '../Experiment 1/working_files/account_value_trade_{}_{}.csv'\n",
    ")\n",
    "\n",
    "print('\\nDDPG full')\n",
    "ddpg100 = backtesting(\n",
    "    model_name = [\n",
    "        \"FULL_DDDPG_1\", \"FULL_DDDPG_2\", \"FULL_DDDPG_3\", \"FULL_DDDPG_4\", \"FULL_DDDPG_5\",\n",
    "        \"FULL_DDDPG_6\", \"FULL_DDDPG_7\", \"FULL_DDDPG_8\", \"FULL_DDDPG_9\", \"FULL_DDDPG_10\",\n",
    "        \"FULL_DDDPG_11\", \"FULL_DDDPG_12\", \"FULL_DDDPG_13\", \"FULL_DDDPG_14\", \"FULL_DDDPG_15\",\n",
    "        \"FULL_DDDPG_16\", \"FULL_DDDPG_17\", \"FULL_DDDPG_18\", \"FULL_DDDPG_19\", \"FULL_DDDPG_20\"\n",
    "    ],\n",
    ")\n",
    "\n",
    "print('\\nDDPG PCA .99')\n",
    "ddpg99 = backtesting(\n",
    "    model_name = [\n",
    "        \"DDPG_99_pca99_1\", \"DDPG_99_pca99_2\", \"DDPG_99_pca99_3\", \"DDPG_99_pca99_4\", \"DDPG_99_pca99_5\",\n",
    "        \"DDPG_99_pca99_6\", \"DDPG_99_pca99_7\", \"DDPG_99_pca99_8\", \"DDPG_99_pca99_9\", \"DDPG_99_pca99_10\",\n",
    "        \"DDPG_99_pca99_11\", \"DDPG_99_pca99_12\", \"DDPG_99_pca99_13\", \"DDPG_99_pca99_14\", \"DDPG_99_pca99_15\",\n",
    "        \"DDPG_99_pca99_16\", \"DDPG_99_pca99_17\", \"DDPG_99_pca99_18\", \"DDPG_99_pca99_19\", \"DDPG_99_pca99_20\"\n",
    "    ],\n",
    ")\n",
    "\n",
    "print('\\nDDPG PCA .95')\n",
    "ddpg95 = backtesting(\n",
    "    model_name = [\n",
    "        \"DDPG_95_pca95_1\", \"DDPG_95_pca95_2\", \"DDPG_95_pca95_3\", \"DDPG_95_pca95_4\", \"DDPG_95_pca95_5\",\n",
    "        \"DDPG_95_pca95_6\", \"DDPG_95_pca95_7\", \"DDPG_95_pca95_8\", \"DDPG_95_pca95_9\", \"DDPG_95_pca95_10\",\n",
    "        \"DDPG_95_pca95_11\", \"DDPG_95_pca95_12\", \"DDPG_95_pca95_13\", \"DDPG_95_pca95_14\", \"DDPG_95_pca95_15\",\n",
    "        \"DDPG_95_pca95_16\", \"DDPG_95_pca95_17\", \"DDPG_95_pca95_18\", \"DDPG_95_pca95_19\", \"DDPG_95_pca95_20\"\n",
    "    ],\n",
    ")\n",
    "\n",
    "print('\\nDDPG PCA .90')\n",
    "ddpg90 = backtesting(\n",
    "    model_name = [\n",
    "        \"DDPG_90_pca90_1\", \"DDPG_90_pca90_2\", \"DDPG_90_pca90_3\", \"DDPG_90_pca90_4\", \"DDPG_90_pca90_5\",\n",
    "        \"DDPG_90_pca90_6\", \"DDPG_90_pca90_7\", \"DDPG_90_pca90_8\", \"DDPG_90_pca90_9\", \"DDPG_90_pca90_10\",\n",
    "        \"DDPG_90_pca90_11\", \"DDPG_90_pca90_12\", \"DDPG_90_pca90_13\", \"DDPG_90_pca90_14\", \"DDPG_90_pca90_15\",\n",
    "        \"DDPG_90_pca90_16\", \"DDPG_90_pca90_17\", \"DDPG_90_pca90_18\", \"DDPG_90_pca90_19\", \"DDPG_90_pca90_20\"\n",
    "    ],\n",
    ")\n",
    "\n",
    "print('\\nDDPG PCA .85')\n",
    "ddpg85 = backtesting(\n",
    "    model_name = [\n",
    "        \"DDPG_85_pca85_1\", \"DDPG_85_pca85_2\", \"DDPG_85_pca85_3\", \"DDPG_85_pca85_4\", \"DDPG_85_pca85_5\",\n",
    "        \"DDPG_85_pca85_6\", \"DDPG_85_pca85_7\", \"DDPG_85_pca85_8\", \"DDPG_85_pca85_9\", \"DDPG_85_pca85_10\",\n",
    "        \"DDPG_85_pca85_11\", \"DDPG_85_pca85_12\", \"DDPG_85_pca85_13\", \"DDPG_85_pca85_14\", \"DDPG_85_pca85_15\",\n",
    "        \"DDPG_85_pca85_16\", \"DDPG_85_pca85_17\", \"DDPG_85_pca85_18\", \"DDPG_85_pca85_19\", \"DDPG_85_pca85_20\"\n",
    "    ],\n",
    ")\n",
    "\n",
    "print('\\nDDPG PCA .80')\n",
    "ddpg80 = backtesting(\n",
    "    model_name = [\n",
    "        \"DDPG_80_pca80_1\", \"DDPG_80_pca80_2\", \"DDPG_80_pca80_3\", \"DDPG_80_pca80_4\", \"DDPG_80_pca80_5\",\n",
    "        \"DDPG_80_pca80_6\", \"DDPG_80_pca80_7\", \"DDPG_80_pca80_8\", \"DDPG_80_pca80_9\", \"DDPG_80_pca80_10\",\n",
    "        \"DDPG_80_pca80_11\", \"DDPG_80_pca80_12\", \"DDPG_80_pca80_13\", \"DDPG_80_pca80_14\", \"DDPG_80_pca80_15\",\n",
    "        \"DDPG_80_pca80_16\", \"DDPG_80_pca80_17\", \"DDPG_80_pca80_18\", \"DDPG_80_pca80_19\", \"DDPG_80_pca80_20\"\n",
    "    ],\n",
    ")"
   ]
  },
  {
   "cell_type": "code",
   "execution_count": 7,
   "metadata": {},
   "outputs": [
    {
     "data": {
      "image/png": "[encoded data removed]",
      "text/plain": [
       "<Figure size 1000x1000 with 1 Axes>"
      ]
     },
     "metadata": {},
     "output_type": "display_data"
    }
   ],
   "source": [
    "colors = [\"blue\", \"orange\", \"green\", \"red\", \"purple\", \"olive\"]\n",
    "plt.rcParams.update({'font.size': 18})\n",
    "\n",
    "fig, ax1 = plt.subplots(1, 1, figsize=(10, 10))\n",
    "ax1.grid()\n",
    "ax1.set_title(f'Account Value Over Time - Algorithm Comparison Graph')\n",
    "\n",
    "bp = ax1.boxplot(\n",
    "    [ddpg100.avg_agent.sharpe, ddpg99.avg_agent.sharpe, ddpg95.avg_agent.sharpe, ddpg90.avg_agent.sharpe, ddpg85.avg_agent.sharpe, ddpg80.avg_agent.sharpe],\n",
    "    patch_artist = True,\n",
    "    notch ='True', \n",
    "    vert = 0\n",
    ")\n",
    "\n",
    "for whisker in bp['whiskers']:\n",
    "    whisker.set(color ='#8B008B', linewidth = 1.5, linestyle =\":\")\n",
    "\n",
    "for patch, color in zip(bp['boxes'], colors):\n",
    "    patch.set_facecolor(color)\n",
    "\n",
    "for cap in bp['caps']:\n",
    "    cap.set(color ='#8B008B', linewidth = 2)\n",
    "\n",
    "ax1.set_yticklabels([\"DDPG\", \"PCA_99\", \"PCA_95\", \"PCA_90\", \"PCA_85\", \"PCA_80\"])\n",
    "ax1.set_ylabel(\"Algorithms\")\n",
    "ax1.set_xlabel(\"Sharpe Ratio\")\n",
    "plt.show()"
   ]
  },
  {
   "cell_type": "markdown",
   "metadata": {},
   "source": [
    "### T-Test Results"
   ]
  },
  {
   "cell_type": "code",
   "execution_count": 25,
   "metadata": {},
   "outputs": [
    {
     "name": "stdout",
     "output_type": "stream",
     "text": [
      "P-Value: 0.08608, %: 8.61\n"
     ]
    }
   ],
   "source": [
    "p_value = stats.ttest_ind(ddpg100.avg_agent.sharpe, ddpg90.avg_agent.sharpe, equal_var = False).pvalue\n",
    "print(f\"P-Value: {round(p_value, 5)}, %: {round(p_value*100, 2)}\")"
   ]
  },
  {
   "cell_type": "markdown",
   "metadata": {},
   "source": [
    "### Will Coxon Results"
   ]
  },
  {
   "cell_type": "code",
   "execution_count": 23,
   "metadata": {},
   "outputs": [
    {
     "name": "stdout",
     "output_type": "stream",
     "text": [
      "P-Value: 0.04865, %: 4.87\n"
     ]
    }
   ],
   "source": [
    "p_value = stats.wilcoxon(ddpg100.avg_agent.sharpe, ddpg90.avg_agent.sharpe, alternative='less').pvalue\n",
    "print(f\"P-Value: {round(p_value, 5)}, %: {round(p_value*100, 2)}\")"
   ]
  },
  {
   "cell_type": "code",
   "execution_count": 16,
   "metadata": {},
   "outputs": [
    {
     "data": {
      "text/plain": [
       "nan"
      ]
     },
     "execution_count": 16,
     "metadata": {},
     "output_type": "execute_result"
    }
   ],
   "source": [
    "p_value = stats.ttest_ind([1.30], [1.52], equal_var = False).pvalue\n",
    "\n",
    "p_value"
   ]
  },
  {
   "cell_type": "markdown",
   "metadata": {},
   "source": [
    "### Probabilistic Sharpe Ratio (PSR)"
   ]
  },
  {
   "cell_type": "code",
   "execution_count": 48,
   "metadata": {},
   "outputs": [
    {
     "name": "stdout",
     "output_type": "stream",
     "text": [
      "DDPG90 Sharpe: 1.6, DDPG100 Sharpe: 1.2, PRS: 1.0, %: 100.0\n",
      "DDPG90 Sharpe: 1.4, DDPG100 Sharpe: 0.9, PRS: 1.0, %: 100.0\n",
      "DDPG90 Sharpe: 1.4, DDPG100 Sharpe: 1.3, PRS: 0.97342, %: 97.34\n",
      "DDPG90 Sharpe: 1.2, DDPG100 Sharpe: 1.2, PRS: 0.618, %: 61.8\n",
      "DDPG90 Sharpe: 1.3, DDPG100 Sharpe: 0.5, PRS: 1.0, %: 100.0\n",
      "DDPG90 Sharpe: 1.2, DDPG100 Sharpe: 1.6, PRS: 0.0, %: 0.0\n",
      "DDPG90 Sharpe: 1.3, DDPG100 Sharpe: 0.9, PRS: 1.0, %: 100.0\n",
      "DDPG90 Sharpe: 1.7, DDPG100 Sharpe: 1.2, PRS: 1.0, %: 100.0\n",
      "DDPG90 Sharpe: 1.2, DDPG100 Sharpe: 1.5, PRS: 1e-05, %: 0.0\n",
      "DDPG90 Sharpe: 1.2, DDPG100 Sharpe: 1.2, PRS: 0.50152, %: 50.15\n",
      "DDPG90 Sharpe: 1.2, DDPG100 Sharpe: 1.1, PRS: 0.87541, %: 87.54\n",
      "DDPG90 Sharpe: 1.1, DDPG100 Sharpe: 0.9, PRS: 0.99986, %: 99.99\n",
      "DDPG90 Sharpe: 1.2, DDPG100 Sharpe: 1.3, PRS: 0.1034, %: 10.34\n",
      "DDPG90 Sharpe: 1.4, DDPG100 Sharpe: 0.9, PRS: 1.0, %: 100.0\n",
      "DDPG90 Sharpe: 1.1, DDPG100 Sharpe: 1.4, PRS: 0.0, %: 0.0\n",
      "DDPG90 Sharpe: 1.6, DDPG100 Sharpe: 1.1, PRS: 1.0, %: 100.0\n",
      "DDPG90 Sharpe: 1.6, DDPG100 Sharpe: 1.5, PRS: 0.73841, %: 73.84\n",
      "DDPG90 Sharpe: 1.4, DDPG100 Sharpe: 1.6, PRS: 1e-05, %: 0.0\n",
      "DDPG90 Sharpe: 1.6, DDPG100 Sharpe: 1.3, PRS: 0.99984, %: 99.98\n",
      "DDPG90 Sharpe: 0.9, DDPG100 Sharpe: 1.1, PRS: 0.0, %: 0.0\n"
     ]
    }
   ],
   "source": [
    "for i in range(len(ddpg90.avg_agent.sharpe)):\n",
    "    prob = probabilistic_sharpe_ratio(\n",
    "        sharpe_ratio = ddpg90.avg_agent.sharpe[i], \n",
    "        bench_sharpe_ratio = ddpg100.avg_agent.sharpe[i], \n",
    "        daily_returns = ddpg90.avg_agent.account_value[i].daily_return.dropna().tolist()\n",
    "    )\n",
    "    print(f\"DDPG90 Sharpe: {round(ddpg90.avg_agent.sharpe[i], 1)}, DDPG100 Sharpe: {round(ddpg100.avg_agent.sharpe[i], 1)}, PRS: {round(prob, 5)}, %: {round(prob*100, 2)}\")"
   ]
  },
  {
   "cell_type": "code",
   "execution_count": 49,
   "metadata": {},
   "outputs": [
    {
     "name": "stdout",
     "output_type": "stream",
     "text": [
      "PRS: 1.0, %: 100.0\n"
     ]
    }
   ],
   "source": [
    "daily_returns = pd.concat(ddpg90.avg_agent.account_value).daily_return.dropna().tolist()\n",
    "\n",
    "prob = probabilistic_sharpe_ratio(\n",
    "    sharpe_ratio = ddpg90.avg_agent.sharpe.mean(), \n",
    "    bench_sharpe_ratio = ddpg100.avg_agent.sharpe.mean(), \n",
    "    daily_returns = daily_returns\n",
    ")\n",
    "\n",
    "print(f\"PRS: {round(prob, 5)}, %: {round(prob*100, 2)}\")"
   ]
  }
 ],
 "metadata": {
  "kernelspec": {
   "display_name": ".venv37",
   "language": "python",
   "name": "python3"
  },
  "language_info": {
   "codemirror_mode": {
    "name": "ipython",
    "version": 3
   },
   "file_extension": ".py",
   "mimetype": "text/x-python",
   "name": "python",
   "nbconvert_exporter": "python",
   "pygments_lexer": "ipython3",
   "version": "3.7.9"
  }
 },
 "nbformat": 4,
 "nbformat_minor": 2
}
